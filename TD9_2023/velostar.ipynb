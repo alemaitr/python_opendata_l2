{
 "cells": [
  {
   "cell_type": "markdown",
   "metadata": {},
   "source": [
    "# TD 9 : Emplacement des vélos STAR disponibles\n",
    "\n",
    "Dans ce TD, vous allez travailler avec des données de la STAR indiquant la disponibilité des vélos de location sur le réseau.\n",
    "\n",
    "Vous manipulerez ces données à l'aide d'une structure de données bien particulière : les _DataFrames_ `pandas`.\n",
    "Un _DataFrame_ peut être vu comme un jeu de données.\n",
    "Cette structure de données permet un certain nombre de facilités de manipulation qui vous seront présentées au fur et à mesure du TD.\n",
    "Sachez déjà que, contrairement à ce que vous avez été habitués à faire depuis le début du semestre, vous n'utiliserez pas de boucles ou autres pour parcourir vos _DataFrames_, mais plutôt des fonctions déjà codées permettant d'appliquer des transformations à vos jeux de données.\n",
    "\n",
    "## Partie 1 : import des données\n",
    "\n",
    "Dans ce TD, les données que nous allons manipuler sont disponibles au format CSV.\n",
    "Vous utiliserez donc la fonction `read_csv` du module `pandas` pour les lire, donc la documentation est disponible [ici](https://pandas.pydata.org/docs/reference/api/pandas.read_csv.html)."
   ]
  },
  {
   "cell_type": "code",
   "execution_count": null,
   "metadata": {},
   "outputs": [],
   "source": [
    "import pandas as pd"
   ]
  },
  {
   "cell_type": "markdown",
   "metadata": {},
   "source": [
    "**Question 1.1.** Téléchargez les données disponibles sur la page [Topologie des stations de vélos en libre-service](https://data.explore.star.fr/explore/dataset/vls-stations-topologie-td/information/) de la STAR (téléchargeables via l'onglet \"Export\") au format CSV et enregistrez le fichier CSV dans votre dossier `PythonOpenData/TD9`.\n",
    "\n",
    "**Question 1.2.** À l'aide de la fonction `pd.read_csv`, chargez ces données dans un _DataFrame_ `df0`."
   ]
  },
  {
   "cell_type": "code",
   "execution_count": null,
   "metadata": {},
   "outputs": [],
   "source": []
  },
  {
   "cell_type": "markdown",
   "metadata": {},
   "source": [
    "Vous pouvez utiliser le code ci-dessous pour visualiser les 10 premières lignes du jeu de données :"
   ]
  },
  {
   "cell_type": "code",
   "execution_count": null,
   "metadata": {},
   "outputs": [],
   "source": [
    "df0.head(10)"
   ]
  },
  {
   "cell_type": "markdown",
   "metadata": {},
   "source": [
    "**Question 1.3.** En fait, la fonction `read_csv` peut prendre pour argument une URL au lieu d'un nom de fichier. \n",
    "Répétez l'opération précédente en récupérant cette fois les données directement depuis l'URL de téléchargement (clic droit sur le lien dans la page web, puis \"Copier le lien\").\n",
    "Ne conservez que les colonnes \"Identifiant\", \"Nom\", \"Station de métro en correspondance (ID)\" et \"Avec terminal CB\".\n",
    "Nommez vptre _DataFrame_ `df_topo_velo`."
   ]
  },
  {
   "cell_type": "code",
   "execution_count": null,
   "metadata": {},
   "outputs": [],
   "source": []
  },
  {
   "cell_type": "code",
   "execution_count": null,
   "metadata": {},
   "outputs": [],
   "source": [
    "df_topo_velo.head(10)"
   ]
  },
  {
   "cell_type": "markdown",
   "metadata": {},
   "source": [
    "**Question 1.4.** Combien y a-t-il de stations vélos (=de lignes) décrites dans ce jeu de données ?"
   ]
  },
  {
   "cell_type": "code",
   "execution_count": null,
   "metadata": {},
   "outputs": [],
   "source": []
  },
  {
   "cell_type": "markdown",
   "metadata": {},
   "source": [
    "# Partie 2 : Préparation des données\n",
    "\n",
    "La colonne \"Station de métro en correspondance (ID)\" n'est pas satisfaisante en l'état : en effet les identifiants utilisés sont codés comme des nombres à virgule alors qu'il s'agit d'identifiants de type entier.\n",
    "Cela est dû à la présence de valeurs manquantes (la valeur NaN n'existe que pour les colonnes de type nombre à virgule)."
   ]
  },
  {
   "cell_type": "markdown",
   "metadata": {},
   "source": [
    "**Question 2.1.** À l'aide de la fonction `fillna` dont la documentation est disponible [ici](https://pandas.pydata.org/docs/reference/api/pandas.DataFrame.fillna.html), remplacez les valeurs manquantes par la valeur -1."
   ]
  },
  {
   "cell_type": "code",
   "execution_count": null,
   "metadata": {},
   "outputs": [],
   "source": []
  },
  {
   "cell_type": "code",
   "execution_count": null,
   "metadata": {},
   "outputs": [],
   "source": [
    "df_topo_velo.head(10)"
   ]
  },
  {
   "cell_type": "markdown",
   "metadata": {},
   "source": [
    "**Question 2.2.** À l'aide de la fonction `astype` dont la documentation est disponible [ici](https://pandas.pydata.org/docs/reference/api/pandas.DataFrame.astype.html), forcez la colonne \"Station de métro en correspondance (ID)\" à être de type \"int\"."
   ]
  },
  {
   "cell_type": "code",
   "execution_count": null,
   "metadata": {},
   "outputs": [],
   "source": []
  },
  {
   "cell_type": "code",
   "execution_count": null,
   "metadata": {},
   "outputs": [],
   "source": [
    "df_topo_velo.head(10)"
   ]
  },
  {
   "cell_type": "markdown",
   "metadata": {},
   "source": [
    "## Partie 3 : récupération des données \"temps réel\"\n",
    "\n",
    "La disponibilité des vélos de location est accessible via le jeu de données situé [à cette adresse](https://data.explore.star.fr/explore/dataset/vls-stations-etat-tr/information/).\n",
    "\n",
    "**Question 3.1.** Chargez ces données dans un _DataFrame_ nommé `df_velos_tempsreel` et ne conservez que les colonnes \"Station (ID)\", \"Emplacements actuels\", \"Emplacements disponibles\" et \"Vélos disponibles\"."
   ]
  },
  {
   "cell_type": "code",
   "execution_count": null,
   "metadata": {},
   "outputs": [],
   "source": []
  },
  {
   "cell_type": "code",
   "execution_count": null,
   "metadata": {},
   "outputs": [],
   "source": [
    "df_velos_tempsreel.head(10)"
   ]
  },
  {
   "cell_type": "markdown",
   "metadata": {},
   "source": [
    "Vous pouvez remarquer qu'à chaque ligne dans le _DataFrame_ correspond un index (sorte de numéro de ligne).\n",
    "Il s'agit d'un identifiant unique (deux lignes ne peuvent pas avoir le même identifiant).\n",
    "Lorsqu'un autre attribut est plus indiqué pour servir d'identifiant, il est possible de définir quelle colonne utiliser pour l'index, ce qui peut ensuite simplifier certaines manipulations."
   ]
  },
  {
   "cell_type": "markdown",
   "metadata": {},
   "source": [
    "# Partie 4 : jointure des données \"topologie\" et \"temps réel\"\n",
    "\n",
    "On souhaite maintenant réunir dans un seul _DataFrame_ l'ensemble des données disponibles sur les stations de vélos.\n",
    "\n",
    "**Question 4.1.** Pour cela, effectuez une jointure à l'aide de la fonction `join` (dont la documentation est disponible [ici](https://pandas.pydata.org/docs/reference/api/pandas.DataFrame.join.html)) entre les _DataFrames_ `df_topo_velo` et `df_velos_tempsreel`. Sur quelle colonne devra se faire la jointure ? Nommez le _DataFrame_ résultat `df_velos`."
   ]
  },
  {
   "cell_type": "code",
   "execution_count": null,
   "metadata": {},
   "outputs": [],
   "source": []
  },
  {
   "cell_type": "code",
   "execution_count": null,
   "metadata": {},
   "outputs": [],
   "source": [
    "df_velos.head(10)"
   ]
  },
  {
   "cell_type": "markdown",
   "metadata": {},
   "source": [
    "**Question 4.2.** Dans ce _DataFrame_, ne conservez que les lignes pour lesquelles l'attribut \"Avec terminal CB\" vaut `True`."
   ]
  },
  {
   "cell_type": "code",
   "execution_count": null,
   "metadata": {},
   "outputs": [],
   "source": []
  },
  {
   "cell_type": "code",
   "execution_count": null,
   "metadata": {},
   "outputs": [],
   "source": [
    "df_velos.head(10)"
   ]
  },
  {
   "cell_type": "markdown",
   "metadata": {},
   "source": [
    "**Question 4.3.** Les identifiants utilisés pour les stations vélo dans ce jeu de données sont artificiellement grands. Soustrayez 5500 à toute la colonne \"Identifiant\"."
   ]
  },
  {
   "cell_type": "code",
   "execution_count": null,
   "metadata": {},
   "outputs": [],
   "source": []
  },
  {
   "cell_type": "code",
   "execution_count": null,
   "metadata": {},
   "outputs": [],
   "source": [
    "df_velos.head(10)"
   ]
  },
  {
   "cell_type": "markdown",
   "metadata": {},
   "source": [
    "## Partie 5 : Récupération des noms de stations de métro\n",
    "\n",
    "**Question 5.1.** À l'aide des données disponibles sur la page [Topologie des stations de métro du réseau STAR](https://data.explore.star.fr/explore/dataset/tco-metro-topologie-stations-td/information/), constituez un jeu de données, nommé `df_topo_metro` qui contiendra l'identifiant des stations de métro et une seconde colonne indiquant, pour chaque identifiant, le nom de la station de métro correspondante."
   ]
  },
  {
   "cell_type": "code",
   "execution_count": null,
   "metadata": {},
   "outputs": [],
   "source": []
  },
  {
   "cell_type": "code",
   "execution_count": null,
   "metadata": {},
   "outputs": [],
   "source": [
    "df_topo_metro.head(10)"
   ]
  },
  {
   "cell_type": "markdown",
   "metadata": {},
   "source": [
    "**Question 5.2.** Dans ce jeu de données, renommez la colonne \"Nom\" en \"Nom station métro\", à l'aide de la fonction `rename` dont la documentation est disponible [ici](https://pandas.pydata.org/docs/reference/api/pandas.DataFrame.rename.html)."
   ]
  },
  {
   "cell_type": "code",
   "execution_count": null,
   "metadata": {},
   "outputs": [],
   "source": []
  },
  {
   "cell_type": "code",
   "execution_count": null,
   "metadata": {},
   "outputs": [],
   "source": [
    "df_topo_metro.head(10)"
   ]
  },
  {
   "cell_type": "markdown",
   "metadata": {},
   "source": [
    "## Partie 6 : Calcul du nombre de vélos disponibles par station de métro\n",
    "\n",
    "Dans cette partie, vous allez avoir deux choses à faire.\n",
    "Tout d'abord, vous devrez rajouter, pour chaque station de vélo, l'information de la station de métro correspondante (en croisant les informations issues de `df_topo_metro`).\n",
    "Ensuite, vous devrez regrouper les données par station de métro (car il peut y avoir plusieurs stations de vélo pour une station de métro) et calculer le nombre total de vélos disponibles par groupe.\n",
    "\n",
    "**Question 6.1.** Créez un jeu de données `df_complet` qui ajoute au jeu de données `df_velos` l'information du nom de la station de métro à laquelle la station vélo est rattachée, s'il y en a."
   ]
  },
  {
   "cell_type": "code",
   "execution_count": null,
   "metadata": {},
   "outputs": [],
   "source": []
  },
  {
   "cell_type": "code",
   "execution_count": null,
   "metadata": {},
   "outputs": [],
   "source": [
    "df_complet.head(10)"
   ]
  },
  {
   "cell_type": "markdown",
   "metadata": {},
   "source": [
    "**Question 6.2.** Dans ce jeu de données, conservez uniquement les colonnes \"Nom station métro\" et \"Vélos disponibles\"."
   ]
  },
  {
   "cell_type": "code",
   "execution_count": null,
   "metadata": {},
   "outputs": [],
   "source": []
  },
  {
   "cell_type": "code",
   "execution_count": null,
   "metadata": {},
   "outputs": [],
   "source": [
    "df_complet.head(10)"
   ]
  },
  {
   "cell_type": "markdown",
   "metadata": {},
   "source": [
    "**Question 6.3.** À l'aide des fonctions `groupby` et `sum` dont les documentations respectives sont disponibles [ici](https://pandas.pydata.org/docs/reference/api/pandas.DataFrame.groupby.html) et [là](https://pandas.pydata.org/docs/reference/api/pandas.DataFrame.sum.html), calculez le total par station de métro du nombre de vélos disponibles."
   ]
  },
  {
   "cell_type": "code",
   "execution_count": null,
   "metadata": {},
   "outputs": [],
   "source": []
  }
 ],
 "metadata": {
  "kernelspec": {
   "display_name": "py3.10_ml",
   "language": "python",
   "name": "python3"
  },
  "language_info": {
   "codemirror_mode": {
    "name": "ipython",
    "version": 3
   },
   "file_extension": ".py",
   "mimetype": "text/x-python",
   "name": "python",
   "nbconvert_exporter": "python",
   "pygments_lexer": "ipython3",
   "version": "3.10.13"
  }
 },
 "nbformat": 4,
 "nbformat_minor": 2
}
